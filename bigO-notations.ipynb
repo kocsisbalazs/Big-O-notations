{
 "cells": [
  {
   "cell_type": "markdown",
   "metadata": {},
   "source": [
    "# O(1)\n",
    "Always the same, most efficient algo"
   ]
  },
  {
   "cell_type": "code",
   "execution_count": 1,
   "metadata": {},
   "outputs": [
    {
     "name": "stdout",
     "output_type": "stream",
     "text": [
      "True\n",
      "10\n"
     ]
    },
    {
     "data": {
      "text/plain": [
       "10"
      ]
     },
     "execution_count": 1,
     "metadata": {},
     "output_type": "execute_result"
    }
   ],
   "source": [
    "# Arrays\n",
    "nums = [1, 2, 3, 4, 5]\n",
    "nums.append(6) \n",
    "nums.pop()\n",
    "nums[0:4]\n",
    "\n",
    "# Hashmaps / Set\n",
    "hashMap = {}\n",
    "hashMap['key'] = 10 # insert\n",
    "print(\"key\" in hashMap) # lookup\n",
    "print(hashMap['key']) # lookup\n",
    "hashMap.pop('key') # delete"
   ]
  },
  {
   "cell_type": "markdown",
   "metadata": {},
   "source": [
    "# O(n)\n",
    "Linear model, as a input size grows the time grows propotionally as well.\n",
    "Worst case runtime"
   ]
  },
  {
   "cell_type": "code",
   "execution_count": 2,
   "metadata": {},
   "outputs": [
    {
     "name": "stdout",
     "output_type": "stream",
     "text": [
      "1\n",
      "2\n",
      "3\n",
      "4\n",
      "5\n",
      "False\n"
     ]
    }
   ],
   "source": [
    "nums = [1, 2, 3, 4, 5]\n",
    "sum(nums) # sum of array\n",
    "for n in nums: # iterate\n",
    "    print(n)\n",
    "\n",
    "nums.insert(1,100) # insert at index\n",
    "nums.remove(100) # remove by value\n",
    "print(100 in nums) # lookup\n",
    "\n",
    "import heapq\n",
    "heapq.heapify(nums) # heapify\n",
    "\n",
    "# Sometimes even nested loops can be O(n), monotonic stack problems"
   ]
  },
  {
   "cell_type": "markdown",
   "metadata": {},
   "source": [
    "# O(n^2)\n",
    "n*n matrix big-O time complexity \n",
    "n times iterating through an array "
   ]
  },
  {
   "cell_type": "code",
   "execution_count": 3,
   "metadata": {},
   "outputs": [
    {
     "name": "stdout",
     "output_type": "stream",
     "text": [
      "1\n",
      "2\n",
      "3\n",
      "4\n",
      "5\n",
      "6\n",
      "7\n",
      "8\n",
      "9\n",
      "10\n",
      "11\n",
      "12\n",
      "13\n",
      "14\n",
      "15\n",
      "1 2\n",
      "1 3\n",
      "1 4\n",
      "1 5\n",
      "2 3\n",
      "2 4\n",
      "2 5\n",
      "3 4\n",
      "3 5\n",
      "4 5\n"
     ]
    }
   ],
   "source": [
    "# Transverse a square matrix\n",
    "nums = [[1, 2, 3, 4, 5], [6, 7, 8, 9, 10], [11, 12, 13, 14, 15]]\n",
    "for i in range(len(nums)):\n",
    "    for j in range(len(nums[i])):\n",
    "        print(nums[i][j])\n",
    "\n",
    "# Get every pair of elemnts in array\n",
    "nums = [1, 2, 3, 4, 5]\n",
    "for i in range(len(nums)):\n",
    "    for j in range(i + 1, len(nums)):\n",
    "        print(nums[i], nums[j])\n",
    "\n",
    "# Insertion sort\n",
    "# Insert in middle n times -> O(n^2)"
   ]
  },
  {
   "cell_type": "markdown",
   "metadata": {},
   "source": [
    "# O(n^3)\n",
    "n*m matrix big-O time complexity \n",
    "n times iterating through an array "
   ]
  },
  {
   "cell_type": "code",
   "execution_count": 4,
   "metadata": {},
   "outputs": [
    {
     "name": "stdout",
     "output_type": "stream",
     "text": [
      "1\n",
      "2\n",
      "3\n",
      "4\n",
      "5\n",
      "6\n",
      "7\n",
      "8\n",
      "9\n",
      "10\n",
      "11\n",
      "12\n",
      "13\n",
      "14\n",
      "15\n",
      "[1, 2, 3, 4, 5] [6, 7, 8, 9, 10]\n"
     ]
    }
   ],
   "source": [
    "# Transverse a square matrix\n",
    "nums = [[1, 2, 3, 4, 5], [6, 7, 8, 9, 10], [11, 12, 13, 14, 15]]\n",
    "for i in range(len(nums)):\n",
    "    for j in range(len(nums[i])):\n",
    "        print(nums[i][j])\n",
    "\n",
    "# Get every pair of elemnts in array\n",
    "nums = [1, 2, 3, 4, 5], [6, 7, 8, 9, 10]\n",
    "for i in range(len(nums)):\n",
    "    for j in range(i + 1, len(nums)):\n",
    "        print(nums[i], nums[j])\n",
    "\n",
    "# Insertion sort\n",
    "# Insert in middle n times -> O(n^3)"
   ]
  },
  {
   "cell_type": "markdown",
   "metadata": {},
   "source": [
    "# O(logn)\n",
    "Binary search\n",
    "Binary search on a binary search tree\n",
    "1 * 2 = n AKA 2^n = n, how can we solve this mathematically ?\n",
    "We keep dividing by 2 in a tree...\n",
    "Grows really slowly"
   ]
  },
  {
   "cell_type": "code",
   "execution_count": 5,
   "metadata": {},
   "outputs": [
    {
     "data": {
      "text/plain": [
       "5"
      ]
     },
     "execution_count": 5,
     "metadata": {},
     "output_type": "execute_result"
    }
   ],
   "source": [
    "# Binary search\n",
    "nums = [1, 2, 3, 4, 5]\n",
    "target = 6\n",
    "l, r = 0, len(nums) - 1\n",
    "while l <= r:\n",
    "    m = (l + r) // 2\n",
    "    if target < nums[m]:\n",
    "        r = m - 1\n",
    "    elif target > nums[m]:\n",
    "        l = m + 1\n",
    "    else:\n",
    "        print(m)\n",
    "        break\n",
    "\n",
    "# Binary Search on BST\n",
    "def search(root, target):\n",
    "    if not root:\n",
    "        return False\n",
    "    if target < root.val:\n",
    "        return search(root.left, target)\n",
    "    elif target > root.val:\n",
    "        return search(root.right, target)\n",
    "    else: \n",
    "        return True\n",
    "\n",
    "# Heap Push and Pop\n",
    "import heapq\n",
    "minHeap = []\n",
    "heapq.heappush(minHeap, 5)\n",
    "heapq.heappop(minHeap)\n"
   ]
  },
  {
   "cell_type": "markdown",
   "metadata": {},
   "source": [
    "# O(nlog)"
   ]
  },
  {
   "cell_type": "code",
   "execution_count": 6,
   "metadata": {},
   "outputs": [],
   "source": [
    "# HeapSort\n",
    "import heapq\n",
    "nums = [1, 2, 3, 4, 5]\n",
    "heapq.heapify(nums)     # O(n)\n",
    "while nums:\n",
    "    heapq.heappop(nums) # O(logn)\n",
    "\n",
    "# MergeSort (and most built-in sorting functions) "
   ]
  },
  {
   "cell_type": "markdown",
   "metadata": {},
   "source": [
    "# O(sqrt(n))"
   ]
  },
  {
   "cell_type": "code",
   "execution_count": null,
   "metadata": {},
   "outputs": [],
   "source": [
    "# Get all factors of n\n",
    "import math\n",
    "n = 12\n",
    "factors = set()\n",
    "for i in range(1, int(math.sqrt(n)) + 1):\n",
    "    if n % i == 0:\n",
    "        factors.add(i)\n",
    "        factors.add(n // i)\n",
    "O( n! )\n",
    "# Permutations\n",
    "# Travelling Salesman Problem\n"
   ]
  },
  {
   "cell_type": "markdown",
   "metadata": {},
   "source": [
    "# O(2^n) - not super efficient\n",
    "Recursion, tree height n, two branches"
   ]
  },
  {
   "cell_type": "code",
   "execution_count": null,
   "metadata": {},
   "outputs": [],
   "source": [
    "def recursion(i, nums):\n",
    "    if i == len(nums):\n",
    "        return 0\n",
    "    branch1 = recursion(i + 1, nums)\n",
    "    branch2 = recursion(i + 2, nums)\n"
   ]
  },
  {
   "cell_type": "markdown",
   "metadata": {},
   "source": [
    "# O(c^n) - not super efficient\n",
    "c branches, where c is sometimes n"
   ]
  },
  {
   "cell_type": "code",
   "execution_count": null,
   "metadata": {},
   "outputs": [],
   "source": [
    "def recursion(i, nums, c):\n",
    "    if i == len(nums):\n",
    "        return 0\n",
    "    \n",
    "    for j in range(i, i + c):\n",
    "        branch = recursion(j + 1, nums)\n"
   ]
  },
  {
   "cell_type": "markdown",
   "metadata": {},
   "source": [
    "# O(n!) - not super efficient\n",
    "Permutations, travelling salesman problem\n",
    "Else it mean you have not the optimal solution"
   ]
  },
  {
   "cell_type": "code",
   "execution_count": null,
   "metadata": {},
   "outputs": [],
   "source": [
    "def factorial(n):\n",
    "    if n == 0:\n",
    "        return 1\n",
    "    else:\n",
    "        return n * factorial(n - 1)\n",
    "\n",
    "n = 5  # Change the value of n to see the exponential growth\n",
    "result = factorial(n)\n",
    "print(f\"The factorial of {n} is {result}\")"
   ]
  }
 ],
 "metadata": {
  "kernelspec": {
   "display_name": "Python 3",
   "language": "python",
   "name": "python3"
  },
  "language_info": {
   "codemirror_mode": {
    "name": "ipython",
    "version": 3
   },
   "file_extension": ".py",
   "mimetype": "text/x-python",
   "name": "python",
   "nbconvert_exporter": "python",
   "pygments_lexer": "ipython3",
   "version": "3.10.0"
  },
  "orig_nbformat": 4
 },
 "nbformat": 4,
 "nbformat_minor": 2
}
